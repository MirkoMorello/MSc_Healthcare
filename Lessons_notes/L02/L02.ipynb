{
 "cells": [
  {
   "cell_type": "markdown",
   "metadata": {},
   "source": [
    "# L02 07/03/24"
   ]
  },
  {
   "cell_type": "markdown",
   "metadata": {},
   "source": [
    "# Foundation of Machine learning"
   ]
  },
  {
   "cell_type": "markdown",
   "metadata": {},
   "source": [
    "## Pattern (Instead of data)\n",
    "\n",
    "- Numerical\n",
    "  - values associsted with measurable and ordinal features\n",
    "  - continuous or discrete\n",
    "  - represented as numerical vectors in multidimensional space\n",
    "- Categorical\n",
    "- Sequences\n",
    "  - sequential patterns with spatial or temporal relationships (features)\n",
    "  - fixed or variable sequence length\n",
    "  - e.g. sequence of image frames (video), sequence of sounds (stream audo)\n",
    "- Other structured data\n",
    "  - patterns organized in complex structures such as trees or graphs"
   ]
  },
  {
   "cell_type": "markdown",
   "metadata": {},
   "source": [
    "## Task\n",
    "\n",
    "- **Classifification** (detection), we have class (set of patterns with common properties), the common properties are exactly the class that I want to identify\n",
    "  - Training a function capable of performing the mapping from the pattern space to the class space\n",
    "  - Assigning (predicting) a pattern to a class\n",
    "- **Regression**\n",
    "  - Training a function capable of finding the relationship between features and the continuous value of a class\n",
    "  - assigning (predicting) a continuous value to a numerical pattern\n",
    "  - not to be confused with interpolation (fitting) (but similar as a task), for fitting we already know the function to fit, in regression we do not know the function, the code finds it for us\n",
    "- **Clustering**\n",
    "  - Identifiing groups (clusters) of patterns with similar features\n",
    "  - The identified clusters can be usecd as classes (further grouped if necessary)"
   ]
  },
  {
   "cell_type": "markdown",
   "metadata": {},
   "source": [
    "# Task in the field of vision"
   ]
  },
  {
   "cell_type": "markdown",
   "metadata": {},
   "source": [
    "*Pattern = object in an image (size, shape, color)*  \n",
    "\n",
    "- **Classification**, associates the class with the object\n",
    "- **Localization**, determines the position of the object in a bounding box\n",
    "- **Detection**, Associates  the class and determines the position of multiple objects (in bounding boxes)\n",
    "- **Segmentation**, Associates individual pixels of objects with different classes (in colored pixels) and determines the position (in contours)"
   ]
  },
  {
   "cell_type": "markdown",
   "metadata": {},
   "source": [
    "# Learning methods"
   ]
  },
  {
   "cell_type": "markdown",
   "metadata": {},
   "source": [
    "- **Supervised**\n",
    "- **Unsupervised**\n",
    "- **Semi-Supervised**"
   ]
  },
  {
   "cell_type": "markdown",
   "metadata": {},
   "source": [
    "## Parameters of the algorithm\n",
    "The learning behaviour of an algorithm of ML depends on a series of **parameters**, like the weights.  \n",
    "The learning converges optimizing these paramenters in function on the **objective function**\n",
    "\n",
    "## Objective function\n",
    "It could be a metric of performance, like accuracy."
   ]
  },
  {
   "cell_type": "markdown",
   "metadata": {},
   "source": [
    "## Training, Validation, Test\n",
    "\n",
    "- **Training set**, it's the set of pattern on which upon doing our learning, optimizing the parameters\n",
    "- **Validation Set**, it's the set of pattern on which dial the hyperparameters\n",
    "- **The training set**, it's the set of pattern upon which test the final performance."
   ]
  },
  {
   "cell_type": "markdown",
   "metadata": {},
   "source": [
    "- HyperParameters are a few set of parameters which describes the initial conditions, they define like the grade of a polynomial."
   ]
  },
  {
   "cell_type": "markdown",
   "metadata": {},
   "source": [
    "### Partitioning training, validation and test\n",
    "\n",
    "usually use 60/80% for training and 40/20% for texting"
   ]
  },
  {
   "cell_type": "markdown",
   "metadata": {},
   "source": []
  }
 ],
 "metadata": {
  "language_info": {
   "name": "python"
  }
 },
 "nbformat": 4,
 "nbformat_minor": 2
}
