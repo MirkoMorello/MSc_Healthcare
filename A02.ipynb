{
 "cells": [
  {
   "cell_type": "markdown",
   "metadata": {},
   "source": [
    "# Detection of breast cancers\n",
    "Train model on CT and PET scans to predict malignant or benign cancer by validating it with histological positive or negative labels\n",
    "- Radiologist accuracy: 80% -> Get an accuracy higher than 80%\n",
    "### What to do\n",
    "- Anatomical location of the region\n",
    "- Characterization of the region\n",
    "- Therapeutic choice\n",
    "- Monitoring of the therapy to monitor patient's response to treatment\n",
    "### Risk Assessment Analysis -> High Risk tools\n",
    "Include Risk Assessment Analysis of the tool in pitch deck\n",
    "- Include list of requirements of our system: operating system, tools, forms, etc, cybersecurity risks (login)\n",
    "- Tool performances in terms of\n",
    "    - Sensitivity (TP rate) -> **at least 90%**\n",
    "    - FP rate\n",
    "    - Time\n",
    "### Model testing during presentation\n",
    "**1 second as maximum response time for testing** -> model will be tested live during presentation\n",
    "### Data privacy\n",
    "- Require auth\n",
    "- No personal info (name, surname, TAX ID code, address, etc)\n",
    "- Cluster ages to reduce privacy risk (each 5 years?)\n",
    "### Requirements\n",
    "- DLL library to call functions from -> **segregation of functions**\n",
    "- Must have **EXIT** button\n",
    "- Cybersecurity of the tool\n",
    "- AUC greather than 0.85\n",
    "- Sensitivity higher than 0.90\n",
    "\n",
    "### Ethics -> **INCLUDE IT**\n",
    "Simulate that we actually got these documents in the first few slides\n",
    "- Informed consent (got from the patient)\n",
    "- Ethic Committee Approval (about 2 months after study request)\n",
    "    - It was approved\n",
    "- Anonimization\n",
    "    - Define the measures in the data\n",
    "\n",
    "### Methods to be used:\n",
    "- Radiomics library\n",
    "- Random Forest or SVM (choose one, maybe PCA to choose the best features)\n",
    "- CNNs\n",
    "\n",
    "### Dataset (with masks)\n",
    "- 437 benign\n",
    "- 210 malignant"
   ]
  },
  {
   "cell_type": "code",
   "execution_count": 10,
   "metadata": {},
   "outputs": [],
   "source": [
    "import nibabel as nib\n",
    "import matplotlib.pyplot as plt ## ciao"
   ]
  },
  {
   "cell_type": "code",
   "execution_count": 12,
   "metadata": {},
   "outputs": [
    {
     "ename": "FileNotFoundError",
     "evalue": "No such file or no access: '../datasets/code__esempi/data/multiple-patients/MRI/mwp1-mri-1.nii'",
     "output_type": "error",
     "traceback": [
      "\u001b[0;31m---------------------------------------------------------------------------\u001b[0m",
      "\u001b[0;31mFileNotFoundError\u001b[0m                         Traceback (most recent call last)",
      "File \u001b[0;32m/opt/homebrew/lib/python3.11/site-packages/nibabel/loadsave.py:100\u001b[0m, in \u001b[0;36mload\u001b[0;34m(filename, **kwargs)\u001b[0m\n\u001b[1;32m     99\u001b[0m \u001b[38;5;28;01mtry\u001b[39;00m:\n\u001b[0;32m--> 100\u001b[0m     stat_result \u001b[38;5;241m=\u001b[39m \u001b[43mos\u001b[49m\u001b[38;5;241;43m.\u001b[39;49m\u001b[43mstat\u001b[49m\u001b[43m(\u001b[49m\u001b[43mfilename\u001b[49m\u001b[43m)\u001b[49m\n\u001b[1;32m    101\u001b[0m \u001b[38;5;28;01mexcept\u001b[39;00m \u001b[38;5;167;01mOSError\u001b[39;00m:\n",
      "\u001b[0;31mFileNotFoundError\u001b[0m: [Errno 2] No such file or directory: '../datasets/code__esempi/data/multiple-patients/MRI/mwp1-mri-1.nii'",
      "\nDuring handling of the above exception, another exception occurred:\n",
      "\u001b[0;31mFileNotFoundError\u001b[0m                         Traceback (most recent call last)",
      "Cell \u001b[0;32mIn[12], line 2\u001b[0m\n\u001b[1;32m      1\u001b[0m path \u001b[38;5;241m=\u001b[39m \u001b[38;5;124m'\u001b[39m\u001b[38;5;124m../datasets/code__esempi/data/multiple-patients/MRI/mwp1-mri-1.nii\u001b[39m\u001b[38;5;124m'\u001b[39m\n\u001b[0;32m----> 2\u001b[0m img \u001b[38;5;241m=\u001b[39m \u001b[43mnib\u001b[49m\u001b[38;5;241;43m.\u001b[39;49m\u001b[43mload\u001b[49m\u001b[43m(\u001b[49m\u001b[43mpath\u001b[49m\u001b[43m)\u001b[49m\u001b[38;5;241m.\u001b[39mget_fdata()\n\u001b[1;32m      3\u001b[0m img\u001b[38;5;241m.\u001b[39mshape\n\u001b[1;32m      4\u001b[0m \u001b[38;5;66;03m# ayoooo ## Andrea\u001b[39;00m\n",
      "File \u001b[0;32m/opt/homebrew/lib/python3.11/site-packages/nibabel/loadsave.py:102\u001b[0m, in \u001b[0;36mload\u001b[0;34m(filename, **kwargs)\u001b[0m\n\u001b[1;32m    100\u001b[0m     stat_result \u001b[38;5;241m=\u001b[39m os\u001b[38;5;241m.\u001b[39mstat(filename)\n\u001b[1;32m    101\u001b[0m \u001b[38;5;28;01mexcept\u001b[39;00m \u001b[38;5;167;01mOSError\u001b[39;00m:\n\u001b[0;32m--> 102\u001b[0m     \u001b[38;5;28;01mraise\u001b[39;00m \u001b[38;5;167;01mFileNotFoundError\u001b[39;00m(\u001b[38;5;124mf\u001b[39m\u001b[38;5;124m\"\u001b[39m\u001b[38;5;124mNo such file or no access: \u001b[39m\u001b[38;5;124m'\u001b[39m\u001b[38;5;132;01m{\u001b[39;00mfilename\u001b[38;5;132;01m}\u001b[39;00m\u001b[38;5;124m'\u001b[39m\u001b[38;5;124m\"\u001b[39m)\n\u001b[1;32m    103\u001b[0m \u001b[38;5;28;01mif\u001b[39;00m stat_result\u001b[38;5;241m.\u001b[39mst_size \u001b[38;5;241m<\u001b[39m\u001b[38;5;241m=\u001b[39m \u001b[38;5;241m0\u001b[39m:\n\u001b[1;32m    104\u001b[0m     \u001b[38;5;28;01mraise\u001b[39;00m ImageFileError(\u001b[38;5;124mf\u001b[39m\u001b[38;5;124m\"\u001b[39m\u001b[38;5;124mEmpty file: \u001b[39m\u001b[38;5;124m'\u001b[39m\u001b[38;5;132;01m{\u001b[39;00mfilename\u001b[38;5;132;01m}\u001b[39;00m\u001b[38;5;124m'\u001b[39m\u001b[38;5;124m\"\u001b[39m)\n",
      "\u001b[0;31mFileNotFoundError\u001b[0m: No such file or no access: '../datasets/code__esempi/data/multiple-patients/MRI/mwp1-mri-1.nii'"
     ]
    }
   ],
   "source": [
    "path = '../datasets/code__esempi/data/multiple-patients/MRI/mwp1-mri-1.nii'\n",
    "img = nib.load(path).get_fdata()\n",
    "img.shape\n",
    "# ayoooo ## Andrea"
   ]
  },
  {
   "cell_type": "code",
   "execution_count": 7,
   "metadata": {},
   "outputs": [
    {
     "ename": "NameError",
     "evalue": "name 'img' is not defined",
     "output_type": "error",
     "traceback": [
      "\u001b[0;31m---------------------------------------------------------------------------\u001b[0m",
      "\u001b[0;31mNameError\u001b[0m                                 Traceback (most recent call last)",
      "Cell \u001b[0;32mIn[7], line 4\u001b[0m\n\u001b[1;32m      2\u001b[0m fig, axes \u001b[38;5;241m=\u001b[39m plt\u001b[38;5;241m.\u001b[39msubplots(\u001b[38;5;241m4\u001b[39m,\u001b[38;5;241m4\u001b[39m, figsize\u001b[38;5;241m=\u001b[39m(\u001b[38;5;241m12\u001b[39m,\u001b[38;5;241m12\u001b[39m))\n\u001b[1;32m      3\u001b[0m \u001b[38;5;28;01mfor\u001b[39;00m i, ax \u001b[38;5;129;01min\u001b[39;00m \u001b[38;5;28menumerate\u001b[39m(axes\u001b[38;5;241m.\u001b[39mreshape(\u001b[38;5;241m-\u001b[39m\u001b[38;5;241m1\u001b[39m)):\n\u001b[0;32m----> 4\u001b[0m     ax\u001b[38;5;241m.\u001b[39mimshow(\u001b[43mimg\u001b[49m[:,\u001b[38;5;241m1\u001b[39m \u001b[38;5;241m+\u001b[39m i:,])\n\u001b[1;32m      5\u001b[0m plt\u001b[38;5;241m.\u001b[39mshow() \u001b[38;5;66;03m# ciao \u001b[39;00m\n",
      "\u001b[0;31mNameError\u001b[0m: name 'img' is not defined"
     ]
    },
    {
     "data": {
      "image/png": "[encoded data removed]",
      "text/plain": [
       "<Figure size 1200x1200 with 16 Axes>"
      ]
     },
     "metadata": {},
     "output_type": "display_data"
    }
   ],
   "source": [
    "plt.style.use('default')\n",
    "fig, axes = plt.subplots(4,4, figsize=(12,12))\n",
    "for i, ax in enumerate(axes.reshape(-1)):\n",
    "    ax.imshow(img[:,1 + i:,])\n",
    "plt.show() # ciao "
   ]
  },
  {
   "cell_type": "code",
   "execution_count": 21,
   "metadata": {},
   "outputs": [],
   "source": [
    "import pandas as pd\n",
    "import os\n",
    "\n",
    "path = 'dataset/'\n",
    "df = pd.DataFrame(columns=['image', 'mask', 'label'])\n",
    "\n",
    "for folder in os.listdir(path):\n",
    "    for file in os.listdir(os.path.join(path, folder)):\n",
    "        if file.find('mask') == -1:\n",
    "            df = pd.concat([df, pd.DataFrame({'image': [os.path.join(path, folder, file)],\n",
    "                                        'mask': [os.path.join(path, folder, file.replace('.png', '_mask.png'))],\n",
    "                                        'label': [0 if 'benign' in file else 1]})])\n",
    "df.index = range(1, len(df) + 1)"
   ]
  },
  {
   "cell_type": "code",
   "execution_count": 23,
   "metadata": {},
   "outputs": [
    {
     "data": {
      "text/html": [
       "<div>\n",
       "<style scoped>\n",
       "    .dataframe tbody tr th:only-of-type {\n",
       "        vertical-align: middle;\n",
       "    }\n",
       "\n",
       "    .dataframe tbody tr th {\n",
       "        vertical-align: top;\n",
       "    }\n",
       "\n",
       "    .dataframe thead th {\n",
       "        text-align: right;\n",
       "    }\n",
       "</style>\n",
       "<table border=\"1\" class=\"dataframe\">\n",
       "  <thead>\n",
       "    <tr style=\"text-align: right;\">\n",
       "      <th></th>\n",
       "      <th>image</th>\n",
       "      <th>mask</th>\n",
       "      <th>label</th>\n",
       "    </tr>\n",
       "  </thead>\n",
       "  <tbody>\n",
       "    <tr>\n",
       "      <th>1</th>\n",
       "      <td>dataset/malignant/malignant (206).png</td>\n",
       "      <td>dataset/malignant/malignant (206)_mask.png</td>\n",
       "      <td>1</td>\n",
       "    </tr>\n",
       "    <tr>\n",
       "      <th>2</th>\n",
       "      <td>dataset/malignant/malignant (178).png</td>\n",
       "      <td>dataset/malignant/malignant (178)_mask.png</td>\n",
       "      <td>1</td>\n",
       "    </tr>\n",
       "    <tr>\n",
       "      <th>3</th>\n",
       "      <td>dataset/malignant/malignant (197).png</td>\n",
       "      <td>dataset/malignant/malignant (197)_mask.png</td>\n",
       "      <td>1</td>\n",
       "    </tr>\n",
       "    <tr>\n",
       "      <th>4</th>\n",
       "      <td>dataset/malignant/malignant (51).png</td>\n",
       "      <td>dataset/malignant/malignant (51)_mask.png</td>\n",
       "      <td>1</td>\n",
       "    </tr>\n",
       "    <tr>\n",
       "      <th>5</th>\n",
       "      <td>dataset/malignant/malignant (47).png</td>\n",
       "      <td>dataset/malignant/malignant (47)_mask.png</td>\n",
       "      <td>1</td>\n",
       "    </tr>\n",
       "    <tr>\n",
       "      <th>...</th>\n",
       "      <td>...</td>\n",
       "      <td>...</td>\n",
       "      <td>...</td>\n",
       "    </tr>\n",
       "    <tr>\n",
       "      <th>643</th>\n",
       "      <td>dataset/benign/benign (184).png</td>\n",
       "      <td>dataset/benign/benign (184)_mask.png</td>\n",
       "      <td>0</td>\n",
       "    </tr>\n",
       "    <tr>\n",
       "      <th>644</th>\n",
       "      <td>dataset/benign/benign (350).png</td>\n",
       "      <td>dataset/benign/benign (350)_mask.png</td>\n",
       "      <td>0</td>\n",
       "    </tr>\n",
       "    <tr>\n",
       "      <th>645</th>\n",
       "      <td>dataset/benign/benign (215).png</td>\n",
       "      <td>dataset/benign/benign (215)_mask.png</td>\n",
       "      <td>0</td>\n",
       "    </tr>\n",
       "    <tr>\n",
       "      <th>646</th>\n",
       "      <td>dataset/benign/benign (15).png</td>\n",
       "      <td>dataset/benign/benign (15)_mask.png</td>\n",
       "      <td>0</td>\n",
       "    </tr>\n",
       "    <tr>\n",
       "      <th>647</th>\n",
       "      <td>dataset/benign/benign (429).png</td>\n",
       "      <td>dataset/benign/benign (429)_mask.png</td>\n",
       "      <td>0</td>\n",
       "    </tr>\n",
       "  </tbody>\n",
       "</table>\n",
       "<p>647 rows × 3 columns</p>\n",
       "</div>"
      ],
      "text/plain": [
       "                                     image  \\\n",
       "1    dataset/malignant/malignant (206).png   \n",
       "2    dataset/malignant/malignant (178).png   \n",
       "3    dataset/malignant/malignant (197).png   \n",
       "4     dataset/malignant/malignant (51).png   \n",
       "5     dataset/malignant/malignant (47).png   \n",
       "..                                     ...   \n",
       "643        dataset/benign/benign (184).png   \n",
       "644        dataset/benign/benign (350).png   \n",
       "645        dataset/benign/benign (215).png   \n",
       "646         dataset/benign/benign (15).png   \n",
       "647        dataset/benign/benign (429).png   \n",
       "\n",
       "                                           mask label  \n",
       "1    dataset/malignant/malignant (206)_mask.png     1  \n",
       "2    dataset/malignant/malignant (178)_mask.png     1  \n",
       "3    dataset/malignant/malignant (197)_mask.png     1  \n",
       "4     dataset/malignant/malignant (51)_mask.png     1  \n",
       "5     dataset/malignant/malignant (47)_mask.png     1  \n",
       "..                                          ...   ...  \n",
       "643        dataset/benign/benign (184)_mask.png     0  \n",
       "644        dataset/benign/benign (350)_mask.png     0  \n",
       "645        dataset/benign/benign (215)_mask.png     0  \n",
       "646         dataset/benign/benign (15)_mask.png     0  \n",
       "647        dataset/benign/benign (429)_mask.png     0  \n",
       "\n",
       "[647 rows x 3 columns]"
      ]
     },
     "execution_count": 23,
     "metadata": {},
     "output_type": "execute_result"
    }
   ],
   "source": [
    "df"
   ]
  },
  {
   "cell_type": "code",
   "execution_count": null,
   "metadata": {},
   "outputs": [],
   "source": []
  }
 ],
 "metadata": {
  "kernelspec": {
   "display_name": "Python 3",
   "language": "python",
   "name": "python3"
  },
  "language_info": {
   "codemirror_mode": {
    "name": "ipython",
    "version": 3
   },
   "file_extension": ".py",
   "mimetype": "text/x-python",
   "name": "python",
   "nbconvert_exporter": "python",
   "pygments_lexer": "ipython3",
   "version": "3.11.3"
  }
 },
 "nbformat": 4,
 "nbformat_minor": 2
}
